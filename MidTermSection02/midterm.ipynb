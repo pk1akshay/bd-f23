{
 "cells": [
  {
   "cell_type": "markdown",
   "metadata": {},
   "source": [
    "### Import the relevant packages"
   ]
  },
  {
   "cell_type": "code",
   "execution_count": 84,
   "metadata": {},
   "outputs": [],
   "source": [
    "import pandas as pd\n",
    "from cassandra.cluster import Cluster"
   ]
  },
  {
   "cell_type": "markdown",
   "metadata": {},
   "source": [
    "### Create a session connection to Cassandra cluster"
   ]
  },
  {
   "cell_type": "code",
   "execution_count": 85,
   "metadata": {},
   "outputs": [],
   "source": [
    "clstr = Cluster()\n",
    "session = clstr.connect()"
   ]
  },
  {
   "cell_type": "markdown",
   "metadata": {},
   "source": [
    "### Use session to 'talk' to cassandra and drop the keyspace if it already exists"
   ]
  },
  {
   "cell_type": "code",
   "execution_count": 86,
   "metadata": {},
   "outputs": [
    {
     "data": {
      "text/plain": [
       "<cassandra.cluster.ResultSet at 0x7f9dfc651150>"
      ]
     },
     "execution_count": 86,
     "metadata": {},
     "output_type": "execute_result"
    }
   ],
   "source": [
    "session.execute(\"DROP KEYSPACE IF EXISTS midterm02\")"
   ]
  },
  {
   "cell_type": "markdown",
   "metadata": {},
   "source": [
    "### Iterate through the results and print the names of the keyspaces."
   ]
  },
  {
   "cell_type": "code",
   "execution_count": 87,
   "metadata": {},
   "outputs": [
    {
     "name": "stdout",
     "output_type": "stream",
     "text": [
      "m14\n",
      "system\n",
      "system_auth\n",
      "system_distributed\n",
      "system_schema\n",
      "system_traces\n",
      "system_views\n",
      "system_virtual_schema\n"
     ]
    }
   ],
   "source": [
    "rows = session.execute(\"desc keyspaces\")\n",
    "for row in rows:\n",
    "    print(f\"{row[0]}\")"
   ]
  },
  {
   "cell_type": "markdown",
   "metadata": {},
   "source": [
    "### Creating a Keyspace with the name midterm02 with a replication factor of 3 which denotes that there are 3 copies of data to be stored across multiple nodes in the cluster"
   ]
  },
  {
   "cell_type": "code",
   "execution_count": 88,
   "metadata": {},
   "outputs": [
    {
     "data": {
      "text/plain": [
       "<cassandra.cluster.ResultSet at 0x7f9e1bf581d0>"
      ]
     },
     "execution_count": 88,
     "metadata": {},
     "output_type": "execute_result"
    }
   ],
   "source": [
    "session.execute(\"\"\"\n",
    "    CREATE KEYSPACE IF NOT EXISTS midterm02 WITH REPLICATION = {\n",
    "        'class':'SimpleStrategy', \n",
    "        'replication_factor':3\n",
    "    }\n",
    "\"\"\")"
   ]
  },
  {
   "cell_type": "markdown",
   "metadata": {},
   "source": [
    "### THe created keyspace can be viewed below"
   ]
  },
  {
   "cell_type": "code",
   "execution_count": 89,
   "metadata": {},
   "outputs": [
    {
     "name": "stdout",
     "output_type": "stream",
     "text": [
      "m14\n",
      "midterm02\n",
      "system\n",
      "system_auth\n",
      "system_distributed\n",
      "system_schema\n",
      "system_traces\n",
      "system_views\n",
      "system_virtual_schema\n"
     ]
    }
   ],
   "source": [
    "rows = session.execute(\"desc keyspaces\")\n",
    "for row in rows:\n",
    "    print(f\"{row[0]}\")"
   ]
  },
  {
   "cell_type": "markdown",
   "metadata": {},
   "source": [
    "### Creating the Table STructure with the necessary data types\n",
    "\n",
    "#### user_id - This is the primary key which contains the unique valuess of all the files. It takes the int datatype.\n",
    "#### date - This consists of alphanumeric characters in it. Hence, it is allotted with the VARCHAR datatype.\n",
    "#### file_name - This field displays the type of the file, whether it is a video, photo or a file of different type. It is shown using the TEXT data type.\n",
    "#### file_name - This is the attachment name and it is stored using the TEXT datatype."
   ]
  },
  {
   "cell_type": "code",
   "execution_count": 90,
   "metadata": {},
   "outputs": [
    {
     "data": {
      "text/plain": [
       "<cassandra.cluster.ResultSet at 0x7f9dfc5855d0>"
      ]
     },
     "execution_count": 90,
     "metadata": {},
     "output_type": "execute_result"
    }
   ],
   "source": [
    "session.execute(\"\"\"\n",
    "CREATE TABLE IF NOT EXISTS midterm02.chat ( \n",
    "    user_id INT, \n",
    "    date VARCHAR, \n",
    "    file_type TEXT, \n",
    "    file_name TEXT,\n",
    "    PRIMARY KEY(user_id)\n",
    ");\n",
    "\"\"\")"
   ]
  },
  {
   "cell_type": "markdown",
   "metadata": {},
   "source": [
    "### The data is present in a csv file and this is loaded into a data frame here"
   ]
  },
  {
   "cell_type": "code",
   "execution_count": 91,
   "metadata": {},
   "outputs": [
    {
     "data": {
      "text/html": [
       "<div>\n",
       "<style scoped>\n",
       "    .dataframe tbody tr th:only-of-type {\n",
       "        vertical-align: middle;\n",
       "    }\n",
       "\n",
       "    .dataframe tbody tr th {\n",
       "        vertical-align: top;\n",
       "    }\n",
       "\n",
       "    .dataframe thead th {\n",
       "        text-align: right;\n",
       "    }\n",
       "</style>\n",
       "<table border=\"1\" class=\"dataframe\">\n",
       "  <thead>\n",
       "    <tr style=\"text-align: right;\">\n",
       "      <th></th>\n",
       "      <th>user_id</th>\n",
       "      <th>date</th>\n",
       "      <th>file_type</th>\n",
       "      <th>file_name</th>\n",
       "    </tr>\n",
       "  </thead>\n",
       "  <tbody>\n",
       "    <tr>\n",
       "      <th>0</th>\n",
       "      <td>1000</td>\n",
       "      <td>'09/10/2023'</td>\n",
       "      <td>'txt'</td>\n",
       "      <td>'Information'</td>\n",
       "    </tr>\n",
       "    <tr>\n",
       "      <th>1</th>\n",
       "      <td>1001</td>\n",
       "      <td>'10/12/2023'</td>\n",
       "      <td>'img'</td>\n",
       "      <td>'WebPage'</td>\n",
       "    </tr>\n",
       "    <tr>\n",
       "      <th>2</th>\n",
       "      <td>1002</td>\n",
       "      <td>'10/12/2023'</td>\n",
       "      <td>'mp4'</td>\n",
       "      <td>'transport'</td>\n",
       "    </tr>\n",
       "    <tr>\n",
       "      <th>3</th>\n",
       "      <td>1003</td>\n",
       "      <td>'05/01/2024'</td>\n",
       "      <td>'img'</td>\n",
       "      <td>'TermExam'</td>\n",
       "    </tr>\n",
       "    <tr>\n",
       "      <th>4</th>\n",
       "      <td>1004</td>\n",
       "      <td>'04/07/2024'</td>\n",
       "      <td>'txt'</td>\n",
       "      <td>'studentdetails'</td>\n",
       "    </tr>\n",
       "    <tr>\n",
       "      <th>5</th>\n",
       "      <td>1005</td>\n",
       "      <td>'22/03/2024'</td>\n",
       "      <td>'img'</td>\n",
       "      <td>'Enrollment'</td>\n",
       "    </tr>\n",
       "    <tr>\n",
       "      <th>6</th>\n",
       "      <td>1006</td>\n",
       "      <td>'04/11/2023'</td>\n",
       "      <td>'txt'</td>\n",
       "      <td>'Internships'</td>\n",
       "    </tr>\n",
       "    <tr>\n",
       "      <th>7</th>\n",
       "      <td>1007</td>\n",
       "      <td>'15/01/2023'</td>\n",
       "      <td>'img'</td>\n",
       "      <td>'Graduation'</td>\n",
       "    </tr>\n",
       "    <tr>\n",
       "      <th>8</th>\n",
       "      <td>1008</td>\n",
       "      <td>'03/08/2024'</td>\n",
       "      <td>'mp4'</td>\n",
       "      <td>'Retention'</td>\n",
       "    </tr>\n",
       "    <tr>\n",
       "      <th>9</th>\n",
       "      <td>1009</td>\n",
       "      <td>'06/09/2024'</td>\n",
       "      <td>'img'</td>\n",
       "      <td>'Finals'</td>\n",
       "    </tr>\n",
       "    <tr>\n",
       "      <th>10</th>\n",
       "      <td>1011</td>\n",
       "      <td>'06/09/2024'</td>\n",
       "      <td>'txt'</td>\n",
       "      <td>'Quarterresults'</td>\n",
       "    </tr>\n",
       "    <tr>\n",
       "      <th>11</th>\n",
       "      <td>1012</td>\n",
       "      <td>'24/11/2024'</td>\n",
       "      <td>'img'</td>\n",
       "      <td>'Hospitality'</td>\n",
       "    </tr>\n",
       "  </tbody>\n",
       "</table>\n",
       "</div>"
      ],
      "text/plain": [
       "    user_id          date file_type         file_name\n",
       "0      1000  '09/10/2023'     'txt'     'Information'\n",
       "1      1001  '10/12/2023'     'img'         'WebPage'\n",
       "2      1002  '10/12/2023'     'mp4'       'transport'\n",
       "3      1003  '05/01/2024'     'img'        'TermExam'\n",
       "4      1004  '04/07/2024'     'txt'  'studentdetails'\n",
       "5      1005  '22/03/2024'     'img'      'Enrollment'\n",
       "6      1006  '04/11/2023'     'txt'     'Internships'\n",
       "7      1007  '15/01/2023'     'img'      'Graduation'\n",
       "8      1008  '03/08/2024'     'mp4'       'Retention'\n",
       "9      1009  '06/09/2024'     'img'          'Finals'\n",
       "10     1011  '06/09/2024'     'txt'  'Quarterresults'\n",
       "11     1012  '24/11/2024'     'img'     'Hospitality'"
      ]
     },
     "execution_count": 91,
     "metadata": {},
     "output_type": "execute_result"
    }
   ],
   "source": [
    "df = pd.read_csv('chat.csv')\n",
    "df"
   ]
  },
  {
   "cell_type": "markdown",
   "metadata": {},
   "source": [
    "### The below statement shows the data present in the CSV file."
   ]
  },
  {
   "cell_type": "code",
   "execution_count": 92,
   "metadata": {},
   "outputs": [
    {
     "name": "stdout",
     "output_type": "stream",
     "text": [
      "user_id = 1000, date ='09/10/2023', file_type = 'txt', file_name = 'Information'\n",
      "user_id = 1001, date ='10/12/2023', file_type = 'img', file_name = 'WebPage'\n",
      "user_id = 1002, date ='10/12/2023', file_type = 'mp4', file_name = 'transport'\n",
      "user_id = 1003, date ='05/01/2024', file_type = 'img', file_name = 'TermExam'\n",
      "user_id = 1004, date ='04/07/2024', file_type = 'txt', file_name = 'studentdetails'\n",
      "user_id = 1005, date ='22/03/2024', file_type = 'img', file_name = 'Enrollment'\n",
      "user_id = 1006, date ='04/11/2023', file_type = 'txt', file_name = 'Internships'\n",
      "user_id = 1007, date ='15/01/2023', file_type = 'img', file_name = 'Graduation'\n",
      "user_id = 1008, date ='03/08/2024', file_type = 'mp4', file_name = 'Retention'\n",
      "user_id = 1009, date ='06/09/2024', file_type = 'img', file_name = 'Finals'\n",
      "user_id = 1011, date ='06/09/2024', file_type = 'txt', file_name = 'Quarterresults'\n",
      "user_id = 1012, date ='24/11/2024', file_type = 'img', file_name = 'Hospitality'\n"
     ]
    }
   ],
   "source": [
    "for index, row in df.iterrows():\n",
    "    print(f\"user_id = {row.user_id}, date ={row.date}, file_type = {row.file_type}, file_name = {row.file_name}\")"
   ]
  },
  {
   "cell_type": "markdown",
   "metadata": {},
   "source": [
    "### The data in the CSV file is inserted into the keyspace here using the INSERT statement below"
   ]
  },
  {
   "cell_type": "code",
   "execution_count": 93,
   "metadata": {},
   "outputs": [
    {
     "name": "stdout",
     "output_type": "stream",
     "text": [
      "\n",
      "        INSERT INTO midterm02.chat (user_id, date, file_type, file_name)     \n",
      "        VALUES (1000, '09/10/2023', 'txt', 'Information');\n",
      "        \n",
      "\n",
      "        INSERT INTO midterm02.chat (user_id, date, file_type, file_name)     \n",
      "        VALUES (1001, '10/12/2023', 'img', 'WebPage');\n",
      "        \n",
      "\n",
      "        INSERT INTO midterm02.chat (user_id, date, file_type, file_name)     \n",
      "        VALUES (1002, '10/12/2023', 'mp4', 'transport');\n",
      "        \n",
      "\n",
      "        INSERT INTO midterm02.chat (user_id, date, file_type, file_name)     \n",
      "        VALUES (1003, '05/01/2024', 'img', 'TermExam');\n",
      "        \n",
      "\n",
      "        INSERT INTO midterm02.chat (user_id, date, file_type, file_name)     \n",
      "        VALUES (1004, '04/07/2024', 'txt', 'studentdetails');\n",
      "        \n",
      "\n",
      "        INSERT INTO midterm02.chat (user_id, date, file_type, file_name)     \n",
      "        VALUES (1005, '22/03/2024', 'img', 'Enrollment');\n",
      "        \n",
      "\n",
      "        INSERT INTO midterm02.chat (user_id, date, file_type, file_name)     \n",
      "        VALUES (1006, '04/11/2023', 'txt', 'Internships');\n",
      "        \n",
      "\n",
      "        INSERT INTO midterm02.chat (user_id, date, file_type, file_name)     \n",
      "        VALUES (1007, '15/01/2023', 'img', 'Graduation');\n",
      "        \n",
      "\n",
      "        INSERT INTO midterm02.chat (user_id, date, file_type, file_name)     \n",
      "        VALUES (1008, '03/08/2024', 'mp4', 'Retention');\n",
      "        \n",
      "\n",
      "        INSERT INTO midterm02.chat (user_id, date, file_type, file_name)     \n",
      "        VALUES (1009, '06/09/2024', 'img', 'Finals');\n",
      "        \n",
      "\n",
      "        INSERT INTO midterm02.chat (user_id, date, file_type, file_name)     \n",
      "        VALUES (1011, '06/09/2024', 'txt', 'Quarterresults');\n",
      "        \n",
      "\n",
      "        INSERT INTO midterm02.chat (user_id, date, file_type, file_name)     \n",
      "        VALUES (1012, '24/11/2024', 'img', 'Hospitality');\n",
      "        \n"
     ]
    }
   ],
   "source": [
    "for index, row in df.iterrows():\n",
    "    print(f\"\"\"\n",
    "        INSERT INTO midterm02.chat (user_id, date, file_type, file_name)     \n",
    "        VALUES ({row.user_id}, {row.date}, {row.file_type}, {row.file_name});\n",
    "        \"\"\"\n",
    "    )\n",
    "    session.execute(f\"\"\"\n",
    "        INSERT INTO midterm02.chat (user_id, date, file_type, file_name)     \n",
    "        VALUES ({row.user_id}, {row.date}, {row.file_type}, {row.file_name});\n",
    "        \"\"\"\n",
    "    )"
   ]
  },
  {
   "cell_type": "markdown",
   "metadata": {},
   "source": [
    "### The below query outputs the userid, date, file_type and file_name from the keyspace"
   ]
  },
  {
   "cell_type": "code",
   "execution_count": 94,
   "metadata": {},
   "outputs": [
    {
     "name": "stdout",
     "output_type": "stream",
     "text": [
      "user_id=1009, date=06/09/2024, file_type=img, file_name=Finals\n",
      "user_id=1006, date=04/11/2023, file_type=txt, file_name=Internships\n",
      "user_id=1008, date=03/08/2024, file_type=mp4, file_name=Retention\n",
      "user_id=1011, date=06/09/2024, file_type=txt, file_name=Quarterresults\n",
      "user_id=1004, date=04/07/2024, file_type=txt, file_name=studentdetails\n",
      "user_id=1007, date=15/01/2023, file_type=img, file_name=Graduation\n",
      "user_id=1005, date=22/03/2024, file_type=img, file_name=Enrollment\n",
      "user_id=1001, date=10/12/2023, file_type=img, file_name=WebPage\n",
      "user_id=1012, date=24/11/2024, file_type=img, file_name=Hospitality\n",
      "user_id=1003, date=05/01/2024, file_type=img, file_name=TermExam\n",
      "user_id=1002, date=10/12/2023, file_type=mp4, file_name=transport\n",
      "user_id=1000, date=09/10/2023, file_type=txt, file_name=Information\n"
     ]
    }
   ],
   "source": [
    "rows = session.execute(\"select (user_id, date, file_type, file_name) from midterm02.chat\")\n",
    "for row in rows:\n",
    "    print(f\"user_id={row[0][0]}, date={row[0][1]}, file_type={row[0][2]}, file_name={row[0][3]}\")"
   ]
  },
  {
   "cell_type": "markdown",
   "metadata": {},
   "source": [
    "### The below statement returns all the records of a particular user_id in the keyspace"
   ]
  },
  {
   "cell_type": "code",
   "execution_count": 95,
   "metadata": {},
   "outputs": [
    {
     "name": "stdout",
     "output_type": "stream",
     "text": [
      "1008, 03/08/2024, Retention, mp4\n"
     ]
    }
   ],
   "source": [
    "rows = session.execute(\"select * from midterm02.chat where user_id = 1008\")\n",
    "for row in rows:\n",
    "    print(f\"{row[0]}, {row[1]}, {row[2]}, {row[3]}\")"
   ]
  },
  {
   "cell_type": "markdown",
   "metadata": {},
   "source": [
    "### The below query displays the output of all the fields which have the user_id as '1002'. It searches for the particular userid and returns the attachment associated with that user_id"
   ]
  },
  {
   "cell_type": "code",
   "execution_count": 96,
   "metadata": {},
   "outputs": [
    {
     "name": "stdout",
     "output_type": "stream",
     "text": [
      "transport\n"
     ]
    }
   ],
   "source": [
    "rows = session.execute(\"select file_name from midterm02.chat where user_id = 1002\")\n",
    "for row in rows:\n",
    "    print(f\"{row[0]}\")"
   ]
  },
  {
   "cell_type": "markdown",
   "metadata": {},
   "source": [
    "### THe below query deletes all the records in the keyspace which has a user id of '1005'"
   ]
  },
  {
   "cell_type": "code",
   "execution_count": 97,
   "metadata": {},
   "outputs": [],
   "source": [
    "rows = session.execute(\"delete from midterm02.chat where user_id = 1005\")\n",
    "for row in rows:\n",
    "    print(f\"{row[0],row[1],row[2],row[3]}\")"
   ]
  },
  {
   "cell_type": "markdown",
   "metadata": {},
   "source": [
    "### It is observed that the records of '1005' user id is not present in the output below."
   ]
  },
  {
   "cell_type": "code",
   "execution_count": 98,
   "metadata": {},
   "outputs": [
    {
     "name": "stdout",
     "output_type": "stream",
     "text": [
      "(1009, '06/09/2024', 'Finals', 'img')\n",
      "(1006, '04/11/2023', 'Internships', 'txt')\n",
      "(1008, '03/08/2024', 'Retention', 'mp4')\n",
      "(1011, '06/09/2024', 'Quarterresults', 'txt')\n",
      "(1004, '04/07/2024', 'studentdetails', 'txt')\n",
      "(1007, '15/01/2023', 'Graduation', 'img')\n",
      "(1001, '10/12/2023', 'WebPage', 'img')\n",
      "(1012, '24/11/2024', 'Hospitality', 'img')\n",
      "(1003, '05/01/2024', 'TermExam', 'img')\n",
      "(1002, '10/12/2023', 'transport', 'mp4')\n",
      "(1000, '09/10/2023', 'Information', 'txt')\n"
     ]
    }
   ],
   "source": [
    "rows = session.execute(\"select * from midterm02.chat\")\n",
    "for row in rows:\n",
    "    print(f\"{row[0],row[1],row[2],row[3]}\")"
   ]
  },
  {
   "cell_type": "code",
   "execution_count": 100,
   "metadata": {},
   "outputs": [],
   "source": [
    "with open(\"test.txt\",\"w\") as fout:\n",
    "    fout.write('THis is the text file')"
   ]
  },
  {
   "cell_type": "code",
   "execution_count": 103,
   "metadata": {},
   "outputs": [],
   "source": [
    "with open(\"test.txt\",\"r\") as fin:\n",
    "    tmp=fin.read()"
   ]
  },
  {
   "cell_type": "code",
   "execution_count": null,
   "metadata": {},
   "outputs": [],
   "source": []
  }
 ],
 "metadata": {
  "kernelspec": {
   "display_name": "bd",
   "language": "python",
   "name": "python3"
  },
  "language_info": {
   "codemirror_mode": {
    "name": "ipython",
    "version": 3
   },
   "file_extension": ".py",
   "mimetype": "text/x-python",
   "name": "python",
   "nbconvert_exporter": "python",
   "pygments_lexer": "ipython3",
   "version": "3.11.4"
  },
  "orig_nbformat": 4
 },
 "nbformat": 4,
 "nbformat_minor": 2
}
